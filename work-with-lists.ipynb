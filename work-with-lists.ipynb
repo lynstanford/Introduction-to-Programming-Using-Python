{
  "cells":[
    {
      "cell_type":"code",
      "source":[
        "guests = ['Christopher','Susan','Bill','Satya']\n",
        "scores = [78,85,62,49,98]"
      ],
      "execution_count":0,
      "outputs":[
        
      ],
      "metadata":{
        
      }
    },
    {
      "cell_type":"markdown",
      "source":[
        "Try storing similar values together: i.e. names, dates, ages etc. Keep one data type in a list!\n",
        "You can create an empty list and store values later:"
      ],
      "metadata":{
        
      }
    },
    {
      "cell_type":"code",
      "source":[
        "guests = []\n",
        "scores = []"
      ],
      "execution_count":0,
      "outputs":[
        
      ],
      "metadata":{
        
      }
    },
    {
      "cell_type":"markdown",
      "source":[
        "These variables represent empty lists or arrays.\n",
        "\n",
        "Print the first guest. The first value is in position 0."
      ],
      "metadata":{
        
      }
    },
    {
      "cell_type":"code",
      "source":[
        "guests = ['Christopher','Susan','Bill','Satya']\n",
        "print(guests[0])"
      ],
      "execution_count":0,
      "outputs":[
        {
          "name":"stdout",
          "text":[
            "Christopher\n"
          ],
          "output_type":"stream"
        }
      ],
      "metadata":{
        
      }
    },
    {
      "cell_type":"markdown",
      "source":[
        "Counting is indexed as '0' for the first value or entry"
      ],
      "metadata":{
        
      }
    },
    {
      "cell_type":"code",
      "source":[
        "scores = [78,85,49,98]"
      ],
      "execution_count":0,
      "outputs":[
        
      ],
      "metadata":{
        
      }
    },
    {
      "cell_type":"markdown",
      "source":[
        "Print the fourth score"
      ],
      "metadata":{
        
      }
    },
    {
      "cell_type":"code",
      "source":[
        "print(scores[3])"
      ],
      "execution_count":0,
      "outputs":[
        {
          "name":"stdout",
          "text":[
            "98\n"
          ],
          "output_type":"stream"
        }
      ],
      "metadata":{
        
      }
    },
    {
      "cell_type":"markdown",
      "source":[
        "So the position of an item in a list or an array is called the 'index'.\n",
        "Print the last entry in the list of names:"
      ],
      "metadata":{
        
      }
    },
    {
      "cell_type":"code",
      "source":[
        "print(guests[-1])"
      ],
      "execution_count":0,
      "outputs":[
        {
          "name":"stdout",
          "text":[
            "Satya\n"
          ],
          "output_type":"stream"
        }
      ],
      "metadata":{
        
      }
    },
    {
      "cell_type":"markdown",
      "source":[
        "Print the second last entry in a list"
      ],
      "metadata":{
        
      }
    },
    {
      "cell_type":"code",
      "source":[
        "print(guests[-2])"
      ],
      "execution_count":0,
      "outputs":[
        {
          "name":"stdout",
          "text":[
            "Bill\n"
          ],
          "output_type":"stream"
        }
      ],
      "metadata":{
        
      }
    },
    {
      "cell_type":"markdown",
      "source":[
        "Change the first value in the 'guests' list to 'Steve'"
      ],
      "metadata":{
        
      }
    },
    {
      "cell_type":"code",
      "source":[
        "guests[0] = 'Steve'\n",
        "print(\"The first value is now \" + guests[0])"
      ],
      "execution_count":0,
      "outputs":[
        {
          "name":"stdout",
          "text":[
            "The first value is now Steve\n"
          ],
          "output_type":"stream"
        }
      ],
      "metadata":{
        
      }
    },
    {
      "cell_type":"markdown",
      "source":[
        "The '.append' function \/ method will add a new value"
      ],
      "metadata":{
        
      }
    },
    {
      "cell_type":"code",
      "source":[
        "guests.append('Steve')"
      ],
      "execution_count":0,
      "outputs":[
        
      ],
      "metadata":{
        
      }
    },
    {
      "cell_type":"markdown",
      "source":[
        "Display the last value in the list"
      ],
      "metadata":{
        
      }
    },
    {
      "cell_type":"code",
      "source":[
        "print(guests[-1])"
      ],
      "execution_count":0,
      "outputs":[
        {
          "name":"stdout",
          "text":[
            "Steve\n"
          ],
          "output_type":"stream"
        }
      ],
      "metadata":{
        
      }
    },
    {
      "cell_type":"markdown",
      "source":[
        "Removing a value from a list:"
      ],
      "metadata":{
        
      }
    },
    {
      "cell_type":"code",
      "source":[
        "guests.remove('Bill')\n",
        "print(guests)"
      ],
      "execution_count":0,
      "outputs":[
        {
          "name":"stdout",
          "text":[
            "['Steve', 'Susan', 'Satya', 'Steve']\n"
          ],
          "output_type":"stream"
        }
      ],
      "metadata":{
        
      }
    },
    {
      "cell_type":"markdown",
      "source":[
        "Delete the first item in the list. Instead of using '.delete' as a method, you use something called the 'del' command"
      ],
      "metadata":{
        
      }
    },
    {
      "cell_type":"code",
      "source":[
        "del guests[0]\n",
        "print(guests)"
      ],
      "execution_count":0,
      "outputs":[
        {
          "name":"stdout",
          "text":[
            "['Susan', 'Satya', 'Steve']\n"
          ],
          "output_type":"stream"
        }
      ],
      "metadata":{
        
      }
    },
    {
      "cell_type":"markdown",
      "source":[
        "You can see the first entry which was the value of 'Steve' has now disappeared.\n",
        "\n",
        "If you want to update a value:"
      ],
      "metadata":{
        
      }
    },
    {
      "cell_type":"code",
      "source":[
        "guests[2] = 'Sonal'\n",
        "print(guests)"
      ],
      "execution_count":0,
      "outputs":[
        {
          "name":"stdout",
          "text":[
            "['Susan', 'Satya', 'Sonal']\n"
          ],
          "output_type":"stream"
        }
      ],
      "metadata":{
        
      }
    }
  ],
  "metadata":{
    
  },
  "nbformat":4,
  "nbformat_minor":0
}